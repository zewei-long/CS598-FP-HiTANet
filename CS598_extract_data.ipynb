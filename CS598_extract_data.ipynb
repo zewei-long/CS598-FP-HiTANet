{
  "nbformat": 4,
  "nbformat_minor": 0,
  "metadata": {
    "colab": {
      "name": "CS598_extract_data.ipynb",
      "provenance": []
    },
    "kernelspec": {
      "name": "python3",
      "display_name": "Python 3"
    },
    "language_info": {
      "name": "python"
    }
  },
  "cells": [
    {
      "cell_type": "code",
      "execution_count": 1,
      "metadata": {
        "id": "2td7lviHeECz",
        "colab": {
          "base_uri": "https://localhost:8080/"
        },
        "outputId": "64f255e2-20dc-425a-ce27-6b35502b641b"
      },
      "outputs": [
        {
          "output_type": "stream",
          "name": "stderr",
          "text": [
            "/usr/local/lib/python3.7/dist-packages/ipykernel_launcher.py:2: DeprecationWarning: Using or importing the ABCs from 'collections' instead of from 'collections.abc' is deprecated since Python 3.3,and in 3.9 it will stop working\n",
            "  \n"
          ]
        }
      ],
      "source": [
        "import pickle\n",
        "from collections import Iterable\n",
        "import pandas as pd\n",
        "from datetime import datetime"
      ]
    },
    {
      "cell_type": "code",
      "source": [
        "admissions = pd.read_csv('ADMISSIONS.csv')\n",
        "admissions = pd.DataFrame().assign(ROW_ID=admissions['ROW_ID'], SUBJECT_ID=admissions['SUBJECT_ID'], HADM_ID=admissions['HADM_ID'], ADMITTIME=admissions['ADMITTIME'], DIAGNOSIS=admissions['DIAGNOSIS'])\n",
        "diagnoses = pd.read_csv('DIAGNOSES_ICD.csv')"
      ],
      "metadata": {
        "id": "TI_YBe6OAFAf"
      },
      "execution_count": 2,
      "outputs": []
    },
    {
      "cell_type": "code",
      "source": [
        "subject_id_HF = list(admissions[admissions.DIAGNOSIS.str.contains('HEART FAILURE', na=False)]['SUBJECT_ID'])\n",
        "subject_id_COPD = list(admissions[admissions.DIAGNOSIS.str.contains('COPD', na=False)]['SUBJECT_ID'])\n",
        "subject_id_KIDNEY = list(admissions[admissions.DIAGNOSIS.str.contains('Kidney', na=False)]['SUBJECT_ID'])"
      ],
      "metadata": {
        "id": "M2Hqt8Rxmt_7"
      },
      "execution_count": 3,
      "outputs": []
    },
    {
      "cell_type": "code",
      "source": [
        "dict_ICD9 = {}\n",
        "dict_cnt = 0"
      ],
      "metadata": {
        "id": "dt4gvV1PphpH"
      },
      "execution_count": 143,
      "outputs": []
    },
    {
      "cell_type": "code",
      "source": [
        "diags = []\n",
        "labels = []\n",
        "times = []\n",
        "for s_id in subject_id_HF:\n",
        "  adm = admissions[admissions.SUBJECT_ID == s_id]\n",
        "  adm.sort_values(by=['ADMITTIME'], inplace = True)\n",
        "  adm = adm.reset_index()\n",
        "  if len(adm) <= 2:\n",
        "    continue\n",
        "  diag = []\n",
        "  label = 1\n",
        "  time = []\n",
        "  for i in range(len(adm)-1):\n",
        "    date_obj = datetime.strptime(adm['ADMITTIME'][i][2:], '%y-%m-%d %H:%M:%S')\\\n",
        "                - datetime.strptime(adm['ADMITTIME'][len(adm)-2][2:], '%y-%m-%d %H:%M:%S')\n",
        "    time.append(0 - date_obj.days)\n",
        "\n",
        "    dg = diagnoses[diagnoses.HADM_ID == adm['HADM_ID'][i]].reset_index()\n",
        "    dg_list = []\n",
        "    for i in range(len(dg)):\n",
        "      # if dg['ICD9_CODE'][i][0] != 'V' and dg['ICD9_CODE'][i][0] != 'E':\n",
        "      if dg['ICD9_CODE'][i] in dict_ICD9.keys():\n",
        "        dg_list.append(dict_ICD9[dg['ICD9_CODE'][i]])\n",
        "      else:\n",
        "        dict_ICD9[dg['ICD9_CODE'][i]] = dict_cnt\n",
        "        dg_list.append(dict_cnt)\n",
        "        dict_cnt += 1\n",
        "    diag.append(dg_list)\n",
        "\n",
        "  times.append(time)\n",
        "  diags.append(diag)\n",
        "  labels.append(label)"
      ],
      "metadata": {
        "id": "mtRBZVuQmzLL"
      },
      "execution_count": 144,
      "outputs": []
    },
    {
      "cell_type": "code",
      "source": [
        "len(diags)"
      ],
      "metadata": {
        "colab": {
          "base_uri": "https://localhost:8080/"
        },
        "id": "NeaEi13-zPzr",
        "outputId": "933c8bcb-a919-4ab3-ef7e-ebe2036d7727"
      },
      "execution_count": 145,
      "outputs": [
        {
          "output_type": "execute_result",
          "data": {
            "text/plain": [
              "0"
            ]
          },
          "metadata": {},
          "execution_count": 145
        }
      ]
    },
    {
      "cell_type": "code",
      "source": [
        "test = []\n",
        "test.append(diags[0:len(diags)//5])\n",
        "test.append(labels[0:len(diags)//5])\n",
        "test.append(times[0:len(diags)//5])\n",
        "\n",
        "train = []\n",
        "train.append(diags[len(diags)//5:])\n",
        "train.append(labels[len(diags)//5:])\n",
        "train.append(times[len(diags)//5:])"
      ],
      "metadata": {
        "id": "Lw7eJBPO34BG"
      },
      "execution_count": 130,
      "outputs": []
    },
    {
      "cell_type": "code",
      "source": [
        "import random\n",
        "subject_id_neg = list(admissions[~admissions.DIAGNOSIS.str.contains('HEART FAILURE', na=False)]['SUBJECT_ID'])\n",
        "subject_id_neg = random.sample(subject_id_neg, len(subject_id_HF)*6)"
      ],
      "metadata": {
        "id": "_53aPyvQtNfR"
      },
      "execution_count": 131,
      "outputs": []
    },
    {
      "cell_type": "code",
      "source": [
        "import math\n",
        "diags = []\n",
        "labels = []\n",
        "times = []\n",
        "for s_id in subject_id_neg:\n",
        "  adm = admissions[admissions.SUBJECT_ID == s_id]\n",
        "  adm.sort_values(by=['ADMITTIME'], inplace = True)\n",
        "  adm = adm.reset_index()\n",
        "  if len(adm) <= 2:\n",
        "    continue\n",
        "  diag = []\n",
        "  label = 0\n",
        "  time = []\n",
        "  for i in range(len(adm)-1):\n",
        "    date_obj = datetime.strptime(adm['ADMITTIME'][i][2:], '%y-%m-%d %H:%M:%S')\\\n",
        "                - datetime.strptime(adm['ADMITTIME'][len(adm)-2][2:], '%y-%m-%d %H:%M:%S')\n",
        "    time.append(0 - date_obj.days)\n",
        "\n",
        "    dg = diagnoses[diagnoses.HADM_ID == adm['HADM_ID'][i]].reset_index()\n",
        "    dg_list = []\n",
        "    for i in range(len(dg)):\n",
        "      if type(dg['ICD9_CODE'][i]) != float: # and dg['ICD9_CODE'][i][0] != 'V' and dg['ICD9_CODE'][i][0] != 'E':\n",
        "        # dg_list.append(dg['ICD9_CODE'][i])\n",
        "        if dg['ICD9_CODE'][i] in dict_ICD9.keys():\n",
        "          dg_list.append(dict_ICD9[dg['ICD9_CODE'][i]])\n",
        "        else:\n",
        "          dict_ICD9[dg['ICD9_CODE'][i]] = dict_cnt\n",
        "          dg_list.append(dict_cnt)\n",
        "          dict_cnt += 1\n",
        "\n",
        "    diag.append(dg_list)\n",
        "\n",
        "  times.append(time)\n",
        "  diags.append(diag)\n",
        "  labels.append(label)\n",
        "\n",
        "times = times[0: 3*(len(test[0])+len(train[0]))]\n",
        "diags = diags[0: 3*(len(test[0])+len(train[0]))]\n",
        "labels = labels[0: 3*(len(test[0])+len(train[0]))]"
      ],
      "metadata": {
        "colab": {
          "base_uri": "https://localhost:8080/"
        },
        "id": "XB9Yjihc2-eE",
        "outputId": "13766741-4dbb-4e6c-8a73-e0a3d311cdf4"
      },
      "execution_count": 132,
      "outputs": [
        {
          "output_type": "stream",
          "name": "stderr",
          "text": [
            "/usr/local/lib/python3.7/dist-packages/pandas/util/_decorators.py:311: SettingWithCopyWarning: \n",
            "A value is trying to be set on a copy of a slice from a DataFrame\n",
            "\n",
            "See the caveats in the documentation: https://pandas.pydata.org/pandas-docs/stable/user_guide/indexing.html#returning-a-view-versus-a-copy\n",
            "  return func(*args, **kwargs)\n"
          ]
        }
      ]
    },
    {
      "cell_type": "code",
      "source": [
        "test[0].extend(diags[0:len(diags)//5])\n",
        "test[1].extend(labels[0:len(diags)//5])\n",
        "test[2].extend(times[0:len(diags)//5])\n",
        "\n",
        "train[0].extend(diags[len(diags)//5:])\n",
        "train[1].extend(labels[len(diags)//5:])\n",
        "train[2].extend(times[len(diags)//5:])"
      ],
      "metadata": {
        "id": "0WXaMww932n7"
      },
      "execution_count": 133,
      "outputs": []
    },
    {
      "cell_type": "code",
      "source": [
        "fw = open('KIDNEY_training.pickle','wb')\n",
        "pickle.dump(train, fw)\n",
        "fw.close()\n",
        "\n",
        "fw = open('KIDNEY_testing.pickle','wb')\n",
        "pickle.dump(train, fw)\n",
        "fw.close()\n",
        "\n",
        "fw = open('KIDNEY_code2idx.pickle','wb')\n",
        "pickle.dump(dict_ICD9, fw)\n",
        "fw.close()"
      ],
      "metadata": {
        "id": "LjRuQzMV4SDO"
      },
      "execution_count": 134,
      "outputs": []
    },
    {
      "cell_type": "code",
      "source": [
        "len(train[0])"
      ],
      "metadata": {
        "colab": {
          "base_uri": "https://localhost:8080/"
        },
        "id": "UpqLlSjnGIw6",
        "outputId": "ddc69844-26c8-4221-dbfa-0292e9e923c5"
      },
      "execution_count": 135,
      "outputs": [
        {
          "output_type": "execute_result",
          "data": {
            "text/plain": [
              "708"
            ]
          },
          "metadata": {},
          "execution_count": 135
        }
      ]
    },
    {
      "cell_type": "code",
      "source": [
        ""
      ],
      "metadata": {
        "id": "rB-AQFG1HXku"
      },
      "execution_count": null,
      "outputs": []
    }
  ]
}